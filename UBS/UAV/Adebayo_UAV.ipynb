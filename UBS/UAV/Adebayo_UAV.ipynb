{
 "cells": [
  {
   "cell_type": "markdown",
   "metadata": {},
   "source": [
    " Sections\n",
    "--------\n",
    "1. Load utils\n",
    "2. Load data\n",
    "3. Stack images\n",
    "4. Training and Validation data sets\n",
    "5. Build classifiers\n",
    "6. Classification\n",
    "7. Confusion matrix\n",
    "8. Classification report"
   ]
  },
  {
   "cell_type": "markdown",
   "metadata": {},
   "source": [
    "## Load utils"
   ]
  },
  {
   "cell_type": "code",
   "execution_count": 4,
   "metadata": {},
   "outputs": [],
   "source": [
    "import rasterio\n",
    "from rasterio.plot import show\n",
    "import numpy as np\n",
    "import pandas as pd\n",
    "from rasterio.plot import reshape_as_image\n",
    "import numpy as np\n",
    "import geopandas as gp\n",
    "import matplotlib.pyplot as plt\n",
    "\n",
    "import copy"
   ]
  },
  {
   "cell_type": "markdown",
   "metadata": {},
   "source": [
    "## Load data"
   ]
  },
  {
   "cell_type": "code",
   "execution_count": 5,
   "metadata": {},
   "outputs": [],
   "source": [
    "def normalize(data):\n",
    "    \"\"\" Normalizes the data with min-max scaling.\"\"\"\n",
    "    data_min = data.min()\n",
    "    data_max = data.max()\n",
    "    data_norm = (data - data_min) / (data_max - data_min)\n",
    "    return data_norm"
   ]
  },
  {
   "cell_type": "code",
   "execution_count": 6,
   "metadata": {},
   "outputs": [],
   "source": [
    "\n",
    "\n",
    "def Load_raster(path):\n",
    "    \"\"\"This function read the dataset into the memory performs data normalizaton;\n",
    "    it returns the data as a numpy array and the normlized image in (bands, row, col) structure\"\"\"\n",
    "    src = rasterio.open(path)\n",
    "    img = src.read()   # load our original input file bands to a numby array stack\n",
    "    # deep copy img to avoid changing the original data\n",
    "    img_copy = copy.deepcopy(img)\n",
    "    # normalise img\n",
    "    img_norm = normalize(img_copy)\n",
    "    src_profile = src.profile\n",
    "    src_profile.update(dtype=rasterio.float64, nodata=np.nan)\n",
    "    profile = src_profile  # the copy the profile of the original GeoTIFF input file\n",
    "    with rasterio.io.MemoryFile() as memfile:\n",
    "        with memfile.open(**profile) as dst:\n",
    "            for i in range(0, src.count):\n",
    "                dst.write(img_norm[i], i+1)\n",
    "        dataset = memfile.open()\n",
    "        return dataset, img_norm"
   ]
  },
  {
   "cell_type": "code",
   "execution_count": 7,
   "metadata": {},
   "outputs": [],
   "source": [
    "# read rgb data into memory\n",
    "rgb_mem, rsa = Load_raster('raster/RGB.tif')\n",
    "# read nir data into memory\n",
    "nir_mem, nir_rsa = Load_raster('raster/NIR3.tif')\n",
    "# read reg data into memory\n",
    "reg_mem, reg_rsa = Load_raster('raster/REG3.tif')\n",
    "# read dsm data into memory\n",
    "# dsm_mem, dsm_rsa = Load_raster('raster/DSM3.tif')"
   ]
  },
  {
   "cell_type": "markdown",
   "metadata": {},
   "source": [
    "## Image stacking\n",
    "\n",
    "The classification is based on the comparison of different band composite images.\n",
    "```\n",
    "- RGB\n",
    "- RGB + NIR = rgb_nir\n",
    "- RGB + REG = rgb_reg\n",
    "- RGB + DSM = rgb_dsm\n",
    "- RGB + DSM + NIR + REG = rgb_dsm_nir_reg\n",
    "```"
   ]
  },
  {
   "cell_type": "markdown",
   "metadata": {},
   "source": [
    "### Normalization"
   ]
  },
  {
   "cell_type": "code",
   "execution_count": 57,
   "metadata": {},
   "outputs": [],
   "source": [
    "# data normalization with min-max scaling\n",
    "def normalize(data):\n",
    "    \"\"\" Normalizes the data with min-max scaling.\"\"\"\n",
    "    data_min = data.min()\n",
    "    data_max = data.max()\n",
    "    data_norm = (data - data_min) / (data_max - data_min)\n",
    "    return data_norm"
   ]
  },
  {
   "cell_type": "markdown",
   "metadata": {},
   "source": [
    "## Training and Validation data sets"
   ]
  },
  {
   "cell_type": "markdown",
   "metadata": {},
   "source": [
    "The few sampling points were selceted traninng (45) and validation (35); for training and validation set 7 andd 5 points were selected respectively."
   ]
  },
  {
   "cell_type": "code",
   "execution_count": 8,
   "metadata": {},
   "outputs": [],
   "source": [
    "# class name\n",
    "class_name = ['grass', 'tree', 'roof', 'bush', 'water', 'road', 'sediment'] # seven classes\n",
    "\n",
    "# training and validation paths\n",
    "training_set_path = 'shapefile/training_set.shp'\n",
    "validation_set_path = 'shapefile/validation_set.shp'"
   ]
  },
  {
   "cell_type": "markdown",
   "metadata": {},
   "source": [
    "Training set shapefiles and its raster values as a Dataframe"
   ]
  },
  {
   "cell_type": "code",
   "execution_count": 16,
   "metadata": {},
   "outputs": [],
   "source": [
    "train_points = gp.read_file(training_set_path)\n",
    "coords = [(x,y) for x,y in zip(train_points.geometry.x, train_points.geometry.y)]\n",
    "\n",
    "def get_raster_value(coords, raster, train_points, bands):#, composite_raster = 'rgb'):\n",
    "    \"\"\" Returns the raster value of the given coordinates.\"\"\"\n",
    "    # get the raster value as float for the given coordinates\n",
    "    train_points['value'] = [x for x in raster.sample(coords)]\n",
    "    train_points[bands] = pd.DataFrame(train_points['value'].values.tolist(), index=train_points.index)\n",
    "    train_points = train_points.drop(['value'], axis=1)\n",
    "    train_points = train_points.drop(['geometry'], axis=1)\n",
    "    # train_points.to_csv('%s.csv'%composite_raster)\n",
    "    return train_points\n",
    "\n",
    "# rgb bands\n",
    "rgb_bands = ['red', 'green', 'blue']\n",
    "rgb_train_points = get_raster_value(coords, rgb_mem, train_points, rgb_bands)#, 'rgb')\n",
    "# nir bands\n",
    "nir_train_points = get_raster_value(coords, nir_mem, train_points, 'nir')\n",
    "# # reg bands\n",
    "reg_train_points = get_raster_value(coords, reg_mem, train_points, 'reg')\n",
    "# dsm bands\n",
    "# dsm_train_points = get_raster_value(coords, dsm_mem, train_points, 'dsm')"
   ]
  },
  {
   "cell_type": "code",
   "execution_count": 18,
   "metadata": {},
   "outputs": [
    {
     "data": {
      "text/html": [
       "<div>\n",
       "<style scoped>\n",
       "    .dataframe tbody tr th:only-of-type {\n",
       "        vertical-align: middle;\n",
       "    }\n",
       "\n",
       "    .dataframe tbody tr th {\n",
       "        vertical-align: top;\n",
       "    }\n",
       "\n",
       "    .dataframe thead th {\n",
       "        text-align: right;\n",
       "    }\n",
       "</style>\n",
       "<table border=\"1\" class=\"dataframe\">\n",
       "  <thead>\n",
       "    <tr style=\"text-align: right;\">\n",
       "      <th></th>\n",
       "      <th>id</th>\n",
       "      <th>geometry</th>\n",
       "      <th>red</th>\n",
       "      <th>green</th>\n",
       "      <th>blue</th>\n",
       "      <th>nir</th>\n",
       "      <th>reg</th>\n",
       "    </tr>\n",
       "  </thead>\n",
       "  <tbody>\n",
       "    <tr>\n",
       "      <th>0</th>\n",
       "      <td>1</td>\n",
       "      <td>POINT (319895.549 6843677.891)</td>\n",
       "      <td>0.992157</td>\n",
       "      <td>0.980392</td>\n",
       "      <td>0.898039</td>\n",
       "      <td>0.445045</td>\n",
       "      <td>0.590909</td>\n",
       "    </tr>\n",
       "    <tr>\n",
       "      <th>1</th>\n",
       "      <td>2</td>\n",
       "      <td>POINT (319899.667 6843671.832)</td>\n",
       "      <td>0.890196</td>\n",
       "      <td>0.709804</td>\n",
       "      <td>0.584314</td>\n",
       "      <td>0.452811</td>\n",
       "      <td>0.863636</td>\n",
       "    </tr>\n",
       "    <tr>\n",
       "      <th>2</th>\n",
       "      <td>3</td>\n",
       "      <td>POINT (319904.095 6843671.016)</td>\n",
       "      <td>0.992157</td>\n",
       "      <td>0.996078</td>\n",
       "      <td>0.870588</td>\n",
       "      <td>0.811627</td>\n",
       "      <td>0.772727</td>\n",
       "    </tr>\n",
       "    <tr>\n",
       "      <th>3</th>\n",
       "      <td>4</td>\n",
       "      <td>POINT (319908.057 6843682.785)</td>\n",
       "      <td>0.203922</td>\n",
       "      <td>0.345098</td>\n",
       "      <td>0.603922</td>\n",
       "      <td>0.052491</td>\n",
       "      <td>0.590909</td>\n",
       "    </tr>\n",
       "    <tr>\n",
       "      <th>4</th>\n",
       "      <td>5</td>\n",
       "      <td>POINT (319890.461 6843664.568)</td>\n",
       "      <td>0.152941</td>\n",
       "      <td>0.196078</td>\n",
       "      <td>0.349020</td>\n",
       "      <td>0.079973</td>\n",
       "      <td>0.590909</td>\n",
       "    </tr>\n",
       "  </tbody>\n",
       "</table>\n",
       "</div>"
      ],
      "text/plain": [
       "   id                        geometry       red     green      blue       nir  \\\n",
       "0   1  POINT (319895.549 6843677.891)  0.992157  0.980392  0.898039  0.445045   \n",
       "1   2  POINT (319899.667 6843671.832)  0.890196  0.709804  0.584314  0.452811   \n",
       "2   3  POINT (319904.095 6843671.016)  0.992157  0.996078  0.870588  0.811627   \n",
       "3   4  POINT (319908.057 6843682.785)  0.203922  0.345098  0.603922  0.052491   \n",
       "4   5  POINT (319890.461 6843664.568)  0.152941  0.196078  0.349020  0.079973   \n",
       "\n",
       "        reg  \n",
       "0  0.590909  \n",
       "1  0.863636  \n",
       "2  0.772727  \n",
       "3  0.590909  \n",
       "4  0.590909  "
      ]
     },
     "execution_count": 18,
     "metadata": {},
     "output_type": "execute_result"
    }
   ],
   "source": [
    "X  = train_points.drop(['class_code', 'value'], axis=1)\n",
    "y = train_points['class_code']\n",
    "X.head()"
   ]
  },
  {
   "cell_type": "markdown",
   "metadata": {},
   "source": [
    "Validation set"
   ]
  },
  {
   "cell_type": "code",
   "execution_count": 19,
   "metadata": {},
   "outputs": [],
   "source": [
    "validation_points = gp.read_file(validation_set_path)\n",
    "coords = [(x,y) for x,y in zip(validation_points.geometry.x, validation_points.geometry.y)]\n",
    "\n",
    "# validation rgb bands\n",
    "rgb_validation_points = get_raster_value(coords, rgb_mem, validation_points, rgb_bands)#, 'rgb')\n",
    "# validation nir bands\n",
    "nir_validation_points = get_raster_value(coords, nir_mem, validation_points, 'nir')\n",
    "# validation reg bands\n",
    "reg_validation_points = get_raster_value(coords, reg_mem, validation_points, 'reg')\n",
    "# validation dsm bands\n",
    "# dsm_validation_points = get_raster_value(coords, dsm_mem, validation_points, 'dsm')"
   ]
  },
  {
   "cell_type": "code",
   "execution_count": 20,
   "metadata": {},
   "outputs": [
    {
     "data": {
      "text/html": [
       "<div>\n",
       "<style scoped>\n",
       "    .dataframe tbody tr th:only-of-type {\n",
       "        vertical-align: middle;\n",
       "    }\n",
       "\n",
       "    .dataframe tbody tr th {\n",
       "        vertical-align: top;\n",
       "    }\n",
       "\n",
       "    .dataframe thead th {\n",
       "        text-align: right;\n",
       "    }\n",
       "</style>\n",
       "<table border=\"1\" class=\"dataframe\">\n",
       "  <thead>\n",
       "    <tr style=\"text-align: right;\">\n",
       "      <th></th>\n",
       "      <th>id</th>\n",
       "      <th>geometry</th>\n",
       "      <th>red</th>\n",
       "      <th>green</th>\n",
       "      <th>blue</th>\n",
       "      <th>nir</th>\n",
       "      <th>reg</th>\n",
       "    </tr>\n",
       "  </thead>\n",
       "  <tbody>\n",
       "    <tr>\n",
       "      <th>0</th>\n",
       "      <td>1</td>\n",
       "      <td>POINT (319897.908 6843666.771)</td>\n",
       "      <td>0.380392</td>\n",
       "      <td>0.290196</td>\n",
       "      <td>0.239216</td>\n",
       "      <td>0.371710</td>\n",
       "      <td>0.863636</td>\n",
       "    </tr>\n",
       "    <tr>\n",
       "      <th>1</th>\n",
       "      <td>2</td>\n",
       "      <td>POINT (319902.470 6843668.292)</td>\n",
       "      <td>0.313725</td>\n",
       "      <td>0.239216</td>\n",
       "      <td>0.250980</td>\n",
       "      <td>0.082353</td>\n",
       "      <td>0.772727</td>\n",
       "    </tr>\n",
       "    <tr>\n",
       "      <th>2</th>\n",
       "      <td>3</td>\n",
       "      <td>POINT (319896.054 6843680.885)</td>\n",
       "      <td>0.666667</td>\n",
       "      <td>0.568627</td>\n",
       "      <td>0.580392</td>\n",
       "      <td>0.321431</td>\n",
       "      <td>0.590909</td>\n",
       "    </tr>\n",
       "    <tr>\n",
       "      <th>3</th>\n",
       "      <td>4</td>\n",
       "      <td>POINT (319906.509 6843677.511)</td>\n",
       "      <td>0.474510</td>\n",
       "      <td>0.282353</td>\n",
       "      <td>0.298039</td>\n",
       "      <td>0.167727</td>\n",
       "      <td>0.727273</td>\n",
       "    </tr>\n",
       "    <tr>\n",
       "      <th>4</th>\n",
       "      <td>5</td>\n",
       "      <td>POINT (319901.757 6843685.257)</td>\n",
       "      <td>0.227451</td>\n",
       "      <td>0.384314</td>\n",
       "      <td>0.631373</td>\n",
       "      <td>0.053971</td>\n",
       "      <td>0.500000</td>\n",
       "    </tr>\n",
       "  </tbody>\n",
       "</table>\n",
       "</div>"
      ],
      "text/plain": [
       "   id                        geometry       red     green      blue       nir  \\\n",
       "0   1  POINT (319897.908 6843666.771)  0.380392  0.290196  0.239216  0.371710   \n",
       "1   2  POINT (319902.470 6843668.292)  0.313725  0.239216  0.250980  0.082353   \n",
       "2   3  POINT (319896.054 6843680.885)  0.666667  0.568627  0.580392  0.321431   \n",
       "3   4  POINT (319906.509 6843677.511)  0.474510  0.282353  0.298039  0.167727   \n",
       "4   5  POINT (319901.757 6843685.257)  0.227451  0.384314  0.631373  0.053971   \n",
       "\n",
       "        reg  \n",
       "0  0.863636  \n",
       "1  0.772727  \n",
       "2  0.590909  \n",
       "3  0.727273  \n",
       "4  0.500000  "
      ]
     },
     "execution_count": 20,
     "metadata": {},
     "output_type": "execute_result"
    }
   ],
   "source": [
    "X_validation  = validation_points.drop(['class_code', 'value'], axis=1)\n",
    "y_validation = validation_points['class_code']\n",
    "X_validation.head()"
   ]
  },
  {
   "cell_type": "markdown",
   "metadata": {},
   "source": [
    "## Build classifiers"
   ]
  },
  {
   "cell_type": "markdown",
   "metadata": {},
   "source": [
    "### Random Forest"
   ]
  },
  {
   "cell_type": "markdown",
   "metadata": {},
   "source": [
    "Random forest model for training set"
   ]
  },
  {
   "cell_type": "code",
   "execution_count": 21,
   "metadata": {},
   "outputs": [],
   "source": [
    "from sklearn.ensemble import RandomForestClassifier\n",
    "#ignore warnings\n",
    "import warnings\n",
    "warnings.filterwarnings('ignore')\n",
    "\n",
    "def train_model(X_train, y_train):\n",
    "    \"\"\" Trains a random forest model.\"\"\"\n",
    "    model = RandomForestClassifier(n_estimators=50, oob_score=True, max_features='auto', random_state=42)\n",
    "    model.fit(X_train, y_train)\n",
    "    return model\n",
    "#train model\n",
    "# for RGB\n",
    "xtrain_rgb = X[['red', 'green', 'blue']]\n",
    "rgb_model = train_model(xtrain_rgb, y)\n",
    "# for RGB + NIR\n",
    "xtrain_rgb_nir = X[['red', 'green', 'blue', 'nir']]\n",
    "rgb_nir_model = train_model(xtrain_rgb_nir, y)\n",
    "# for RGB + NIR + REG\n",
    "xtrain_rgb_nir_reg = X[['red', 'green', 'blue', 'nir', 'reg']]\n",
    "rgb_nir_reg_model = train_model(xtrain_rgb_nir_reg, y)"
   ]
  },
  {
   "cell_type": "markdown",
   "metadata": {},
   "source": [
    "Random forest model predicted on the validation set"
   ]
  },
  {
   "cell_type": "code",
   "execution_count": 34,
   "metadata": {},
   "outputs": [
    {
     "name": "stdout",
     "output_type": "stream",
     "text": [
      "RGB validation accuracy: 0.34\n",
      "RGB + NIR validation accuracy: 0.40\n",
      "RGB + NIR + REG validation accuracy: 0.63\n"
     ]
    }
   ],
   "source": [
    "# accuracy metrics sklearn\n",
    "from sklearn.metrics import accuracy_score#, precision_score, recall_score, f1_score\n",
    "def validation_model(X_validation, y_validation, model):\n",
    "    \"\"\" Validates the model.\"\"\"\n",
    "    y_pred = model.predict(X_validation)\n",
    "    accuracy = accuracy_score(y_validation, y_pred)\n",
    "    # print('Validation accuracy: %.2f' % accuracy)\n",
    "    return accuracy\n",
    "\n",
    "#rgb validation\n",
    "xval_rgb = X_validation[['red', 'green', 'blue']]\n",
    "print('RGB validation accuracy: %.2f' % validation_model(xval_rgb, y_validation, rgb_model))\n",
    "#rgb + nir validation\n",
    "xval_rgb_nir = X_validation[['red', 'green', 'blue', 'nir']]\n",
    "print('RGB + NIR validation accuracy: %.2f' % validation_model(xval_rgb_nir, y_validation, rgb_nir_model))\n",
    "# #rgb + nir + reg validation\n",
    "xval_rgb_nir_reg = X_validation[['red', 'green', 'blue', 'nir', 'reg']]\n",
    "print('RGB + NIR + REG validation accuracy: %.2f' % validation_model(xval_rgb_nir_reg, y_validation, rgb_nir_reg_model))"
   ]
  },
  {
   "cell_type": "code",
   "execution_count": 78,
   "metadata": {},
   "outputs": [
    {
     "data": {
      "text/plain": [
       "(35, 5)"
      ]
     },
     "execution_count": 78,
     "metadata": {},
     "output_type": "execute_result"
    }
   ],
   "source": [
    "xval_rgb_nir_reg.shape"
   ]
  },
  {
   "cell_type": "markdown",
   "metadata": {},
   "source": [
    "Confusion matrix for training set and validation set"
   ]
  },
  {
   "cell_type": "code",
   "execution_count": 51,
   "metadata": {},
   "outputs": [
    {
     "name": "stdout",
     "output_type": "stream",
     "text": [
      "RGB confusion matrix\n"
     ]
    },
    {
     "data": {
      "image/png": "[encoded data removed]",
      "text/plain": [
       "<Figure size 432x288 with 2 Axes>"
      ]
     },
     "metadata": {
      "needs_background": "light"
     },
     "output_type": "display_data"
    },
    {
     "name": "stdout",
     "output_type": "stream",
     "text": [
      "RGB + NIR confusion matrix\n"
     ]
    },
    {
     "data": {
      "image/png": "[encoded data removed]",
      "text/plain": [
       "<Figure size 432x288 with 2 Axes>"
      ]
     },
     "metadata": {
      "needs_background": "light"
     },
     "output_type": "display_data"
    },
    {
     "name": "stdout",
     "output_type": "stream",
     "text": [
      "RGB + NIR + REG confusion matrix\n"
     ]
    },
    {
     "data": {
      "image/png": "[encoded data removed]",
      "text/plain": [
       "<Figure size 432x288 with 2 Axes>"
      ]
     },
     "metadata": {
      "needs_background": "light"
     },
     "output_type": "display_data"
    }
   ],
   "source": [
    "# build a confusion matrix for training and validation\n",
    "from sklearn.metrics import confusion_matrix\n",
    "from sklearn.metrics import plot_confusion_matrix\n",
    "def confusion_matrix_model(X_validation, y_validation, model):\n",
    "    \"\"\"\" build and plot confuson matrix.\"\"\"\n",
    "    y_pred = model.predict(X_validation)\n",
    "    cm = confusion_matrix(y_validation, y_pred)\n",
    "    # print(cm)\n",
    "    plot_confusion_matrix(model, X_validation, y_validation, normalize='true')\n",
    "    plt.show()\n",
    "\n",
    "\n",
    "\n",
    "#rgb confusion matrix\n",
    "print('RGB confusion matrix')\n",
    "confusion_matrix_model(xval_rgb, y_validation, rgb_model)\n",
    "#rgb + nir confusion matrix\n",
    "print('RGB + NIR confusion matrix')\n",
    "confusion_matrix_model(xval_rgb_nir, y_validation, rgb_nir_model)\n",
    "#rgb + nir + reg confusion matrix\n",
    "print('RGB + NIR + REG confusion matrix')\n",
    "confusion_matrix_model(xval_rgb_nir_reg, y_validation, rgb_nir_reg_model)\n",
    "plt.show()"
   ]
  },
  {
   "cell_type": "markdown",
   "metadata": {},
   "source": [
    "Plot feature importance"
   ]
  },
  {
   "cell_type": "code",
   "execution_count": 55,
   "metadata": {},
   "outputs": [],
   "source": [
    "# def plot_images(image_list, titles):\n",
    "#     \"\"\"\n",
    "#     Plot multiple images in a single figure.\n",
    "#     \"\"\"\n",
    "#     plt.figure(figsize=(20, 10))\n",
    "#     for i in range(len(image_list)):\n",
    "#         plt.subplot(1, len(image_list), i+1)\n",
    "#         plt.imshow(image_list[i], cmap='gray')\n",
    "#         plt.title(titles[i])\n",
    "#     plt.show()"
   ]
  },
  {
   "cell_type": "code",
   "execution_count": 58,
   "metadata": {},
   "outputs": [
    {
     "data": {
      "image/png": "[encoded data removed]",
      "text/plain": [
       "<Figure size 432x288 with 1 Axes>"
      ]
     },
     "metadata": {
      "needs_background": "light"
     },
     "output_type": "display_data"
    },
    {
     "data": {
      "image/png": "[encoded data removed]",
      "text/plain": [
       "<Figure size 432x288 with 1 Axes>"
      ]
     },
     "metadata": {
      "needs_background": "light"
     },
     "output_type": "display_data"
    },
    {
     "data": {
      "image/png": "[encoded data removed]",
      "text/plain": [
       "<Figure size 432x288 with 1 Axes>"
      ]
     },
     "metadata": {
      "needs_background": "light"
     },
     "output_type": "display_data"
    }
   ],
   "source": [
    "# plot the feature importance for the models\n",
    "from sklearn.ensemble import ExtraTreesClassifier\n",
    "def plot_feature_importance(model, X_train):\n",
    "    \"\"\" Plots the feature importance for the models.\"\"\"\n",
    "    # get the feature importances\n",
    "    importances = model.feature_importances_\n",
    "    # convert the importances into one-dimensional 1darray with corresponding df column names as axis labels\n",
    "    f_importances = pd.Series(importances, X_train.columns)\n",
    "    # sort the array in descending order of the importances\n",
    "    f_importances.sort_values(ascending=False, inplace=True)\n",
    "    # make the bar Plot from f_importances\n",
    "    f_importances.plot(kind='bar', title='Feature Importances')\n",
    "    plt.show()\n",
    "\n",
    "# for rgb\n",
    "plot_feature_importance(rgb_model, xtrain_rgb)\n",
    "\n",
    "# for rgb + nir\n",
    "plot_feature_importance(rgb_nir_model, xtrain_rgb_nir)\n",
    "\n",
    "# for rgb + nir + reg\n",
    "plot_feature_importance(rgb_nir_reg_model, xtrain_rgb_nir_reg)"
   ]
  },
  {
   "cell_type": "markdown",
   "metadata": {},
   "source": [
    "## Classification with models"
   ]
  },
  {
   "cell_type": "code",
   "execution_count": 59,
   "metadata": {},
   "outputs": [],
   "source": [
    "# color dictionary for class_code \n",
    "colors = dict((\n",
    "    # roof\n",
    "    (0, (255,0,0,255)), \n",
    "    # water\n",
    "    (1, (0,76,153,255)),\n",
    "    # road\n",
    "    (2, (160,160,160,255)),\n",
    "    # sediment\n",
    "    (3, (255,204,153,255)),\n",
    "    # Tree\n",
    "    (4, (51,255,51,255)),\n",
    "    # Grass\n",
    "    (5, (0,255,0,255)),\n",
    "    # bush\n",
    "    (6, (204,255,153,255))\n",
    "))\n",
    "\n",
    "# convert 0-255 values to 0-1 values\n",
    "for k, v in colors.items():\n",
    "    colors[k] = [x/255 for x in v]\n",
    "\n",
    "# matplotlib colormap from color dictionary\n",
    "index_colors = [colors[x] if x in colors else (0,0,0,1) for x in range(0,7)]\n",
    "cmap = plt.matplotlib.colors.ListedColormap(index_colors, 'Classification', 7)"
   ]
  },
  {
   "cell_type": "markdown",
   "metadata": {},
   "source": [
    "Classification on the image\n",
    "\n",
    "The p"
   ]
  },
  {
   "cell_type": "code",
   "execution_count": 67,
   "metadata": {},
   "outputs": [],
   "source": [
    "def read_input_combination(band_combination, x_subset):\n",
    "    \"\"\" Returns the input combination based on input bands.\"\"\"\n",
    "    bands = band_combination.read()\n",
    "    #reshape as (rows, cols, bands)\n",
    "    band_reshaped = reshape_as_image(bands)\n",
    "    # reshape as ((rows*cols), bands)\n",
    "    input_raster = band_reshaped.reshape(-1, x_subset.shape[1])\n",
    "\n",
    "    return input_raster, band_reshaped\n",
    "\n",
    "# for xval_rgb_nir_reg\n",
    "xval_rgb_nir_reg_input, band_reshaped = read_input_combination(reg_mem, xval_rgb_nir_reg)"
   ]
  },
  {
   "cell_type": "code",
   "execution_count": null,
   "metadata": {},
   "outputs": [],
   "source": [
    "# reshape as (rows, cols, bands)\n",
    "xval_ = class_rgb_nir_reg.reshape(band_reshaped[:,:,0].shape)\n",
    "xval_.shape"
   ]
  },
  {
   "cell_type": "code",
   "execution_count": 72,
   "metadata": {},
   "outputs": [],
   "source": [
    "# prediction on reshaped image using rgb model\n",
    "class_rgb_nir_reg = rgb_nir_reg_model.predict(xval_rgb_nir_reg_input)"
   ]
  },
  {
   "cell_type": "code",
   "execution_count": 77,
   "metadata": {},
   "outputs": [
    {
     "data": {
      "text/plain": [
       "(15749096,)"
      ]
     },
     "execution_count": 77,
     "metadata": {},
     "output_type": "execute_result"
    }
   ],
   "source": [
    "class_rgb_nir_reg.shape"
   ]
  },
  {
   "cell_type": "code",
   "execution_count": 73,
   "metadata": {},
   "outputs": [
    {
     "ename": "ValueError",
     "evalue": "cannot reshape array of size 15749096 into shape (9370,8404,1)",
     "output_type": "error",
     "traceback": [
      "\u001b[1;31m---------------------------------------------------------------------------\u001b[0m",
      "\u001b[1;31mValueError\u001b[0m                                Traceback (most recent call last)",
      "\u001b[1;32mC:\\Users\\ADEBOW~1\\AppData\\Local\\Temp/ipykernel_13008/286304572.py\u001b[0m in \u001b[0;36m<module>\u001b[1;34m\u001b[0m\n\u001b[1;32m----> 1\u001b[1;33m \u001b[0mcl\u001b[0m \u001b[1;33m=\u001b[0m \u001b[0mclass_rgb_nir_reg\u001b[0m\u001b[1;33m.\u001b[0m\u001b[0mreshape\u001b[0m\u001b[1;33m(\u001b[0m\u001b[0mband_reshaped\u001b[0m\u001b[1;33m.\u001b[0m\u001b[0mshape\u001b[0m\u001b[1;33m)\u001b[0m\u001b[1;33m\u001b[0m\u001b[1;33m\u001b[0m\u001b[0m\n\u001b[0m\u001b[0;32m      2\u001b[0m \u001b[1;33m\u001b[0m\u001b[0m\n\u001b[0;32m      3\u001b[0m \u001b[0mplt\u001b[0m\u001b[1;33m.\u001b[0m\u001b[0mfigure\u001b[0m\u001b[1;33m(\u001b[0m\u001b[0mfigsize\u001b[0m\u001b[1;33m=\u001b[0m\u001b[1;33m(\u001b[0m\u001b[1;36m15\u001b[0m\u001b[1;33m,\u001b[0m\u001b[1;36m15\u001b[0m\u001b[1;33m)\u001b[0m\u001b[1;33m)\u001b[0m\u001b[1;33m\u001b[0m\u001b[1;33m\u001b[0m\u001b[0m\n\u001b[0;32m      4\u001b[0m \u001b[0mplt\u001b[0m\u001b[1;33m.\u001b[0m\u001b[0mimshow\u001b[0m\u001b[1;33m(\u001b[0m\u001b[0mcl\u001b[0m\u001b[1;33m,\u001b[0m \u001b[0mcmap\u001b[0m\u001b[1;33m=\u001b[0m\u001b[0mcmap\u001b[0m\u001b[1;33m)\u001b[0m\u001b[1;33m\u001b[0m\u001b[1;33m\u001b[0m\u001b[0m\n\u001b[0;32m      5\u001b[0m \u001b[0mplt\u001b[0m\u001b[1;33m.\u001b[0m\u001b[0mshow\u001b[0m\u001b[1;33m(\u001b[0m\u001b[1;33m)\u001b[0m\u001b[1;33m\u001b[0m\u001b[1;33m\u001b[0m\u001b[0m\n",
      "\u001b[1;31mValueError\u001b[0m: cannot reshape array of size 15749096 into shape (9370,8404,1)"
     ]
    }
   ],
   "source": [
    "cl = class_rgb_nir_reg.reshape(band_reshaped[:,:,0].shape)\n",
    "\n",
    "plt.figure(figsize=(15,15))\n",
    "plt.imshow(cl, cmap=cmap)\n",
    "plt.show()"
   ]
  },
  {
   "cell_type": "code",
   "execution_count": null,
   "metadata": {},
   "outputs": [],
   "source": []
  }
 ],
 "metadata": {
  "interpreter": {
   "hash": "141d74de8daf6b33d504b5ec03bc50e3016ed9a793381d16f3625a7b1a6ce5ec"
  },
  "kernelspec": {
   "display_name": "Python 3.10.0 64-bit ('uav_env': conda)",
   "language": "python",
   "name": "python3"
  },
  "language_info": {
   "codemirror_mode": {
    "name": "ipython",
    "version": 3
   },
   "file_extension": ".py",
   "mimetype": "text/x-python",
   "name": "python",
   "nbconvert_exporter": "python",
   "pygments_lexer": "ipython3",
   "version": "3.9.7"
  },
  "orig_nbformat": 4
 },
 "nbformat": 4,
 "nbformat_minor": 2
}
